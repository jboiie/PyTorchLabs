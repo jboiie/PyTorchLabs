{
 "cells": [
  {
   "cell_type": "code",
   "execution_count": 2,
   "id": "175bdbbc",
   "metadata": {},
   "outputs": [],
   "source": [
    "import torch\n",
    "import numpy as np"
   ]
  },
  {
   "cell_type": "code",
   "execution_count": 9,
   "id": "5fafec7a",
   "metadata": {},
   "outputs": [
    {
     "name": "stdout",
     "output_type": "stream",
     "text": [
      "zero tensor: tensor([[0., 0., 0.],\n",
      "        [0., 0., 0.]])\n",
      "random tensor: tensor([[0.7256, 0.6344, 0.6304],\n",
      "        [0.7947, 0.3214, 0.6200]])\n",
      "tensor([[5, 6],\n",
      "        [7, 8]])\n",
      "tensor([[ 9, 18],\n",
      "        [10, 75]])\n",
      "tensor([[ 38, 462],\n",
      "        [ 52, 620]])\n",
      "torch.int64\n",
      "torch.Size([2, 2])\n",
      "cpu\n"
     ]
    }
   ],
   "source": [
    "x = torch.tensor([[2,3], [4,5]])\n",
    "y = torch.tensor([[4,12], [3,67]])\n",
    "x.add_(3)\n",
    "print(\"zero tensor:\", torch.zeros(2,3))\n",
    "print(\"random tensor:\", torch.rand(2,3))\n",
    "print(x)\n",
    "print(x+y)\n",
    "print(torch.matmul(x,y))\n",
    "print(x.dtype)\n",
    "print(y.shape)\n",
    "print(x.device)\n"
   ]
  }
 ],
 "metadata": {
  "kernelspec": {
   "display_name": "Python 3",
   "language": "python",
   "name": "python3"
  },
  "language_info": {
   "codemirror_mode": {
    "name": "ipython",
    "version": 3
   },
   "file_extension": ".py",
   "mimetype": "text/x-python",
   "name": "python",
   "nbconvert_exporter": "python",
   "pygments_lexer": "ipython3",
   "version": "3.13.3"
  }
 },
 "nbformat": 4,
 "nbformat_minor": 5
}
