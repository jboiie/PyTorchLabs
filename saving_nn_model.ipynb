{
 "cells": [
  {
   "cell_type": "markdown",
   "id": "6a0a6591",
   "metadata": {},
   "source": [
    "# neural network building and training"
   ]
  },
  {
   "cell_type": "code",
   "execution_count": 1,
   "id": "7f6a8a0b",
   "metadata": {},
   "outputs": [],
   "source": [
    "import torch\n",
    "import torch.nn as nn\n",
    "import torch.nn.functional as F\n",
    "import matplotlib.pyplot as plt\n",
    "import pandas as pd\n",
    "from sklearn.model_selection import train_test_split\n",
    "#feed forward neural network. with two hidden layer.\n"
   ]
  },
  {
   "cell_type": "code",
   "execution_count": 2,
   "id": "776b960b",
   "metadata": {},
   "outputs": [],
   "source": [
    "class model(nn.Module):\n",
    "    #input layer(4features of the flower)\n",
    "    def __init__(self, in_features=4, h1=8, h2=9, out_features=3):\n",
    "        super().__init__()\n",
    "        self.fc1 = nn.Linear(in_features, h1)\n",
    "        self.fc2 = nn.Linear(h1, h2)\n",
    "        self.out = nn.Linear(h2, out_features)\n",
    "    \n",
    "    def forward(self, x):\n",
    "        x = F.relu(self.fc1(x))#rectified linear unit\n",
    "        x = F.relu(self.fc2(x))   \n",
    "        x = self.out(x)\n",
    "\n",
    "        return x\n",
    "    \n",
    "torch.manual_seed(38) #picking a manual seed for randomizaation\n",
    "# if loss eval is bad bw test and train, we reduce the seed no. it worked\n",
    "\n",
    "mod = model()\n",
    "\n"
   ]
  },
  {
   "cell_type": "code",
   "execution_count": 3,
   "id": "386aaedf",
   "metadata": {},
   "outputs": [
    {
     "name": "stderr",
     "output_type": "stream",
     "text": [
      "C:\\Users\\jai19\\AppData\\Local\\Temp\\ipykernel_14444\\2293203200.py:7: FutureWarning: Downcasting behavior in `replace` is deprecated and will be removed in a future version. To retain the old behavior, explicitly call `result.infer_objects(copy=False)`. To opt-in to the future behavior, set `pd.set_option('future.no_silent_downcasting', True)`\n",
      "  df['Species'] = df['Species'].replace('Iris-virginica', 2)\n"
     ]
    }
   ],
   "source": [
    "#print(model)\n",
    "csv_path = r\"C:\\Programming\\Projects\\Learn\\pytorch\\archive\\Iris.csv\"\n",
    "df = pd.read_csv(csv_path)\n",
    "\n",
    "df['Species'] = df['Species'].replace('Iris-setosa', 0)\n",
    "df['Species'] = df['Species'].replace('Iris-versicolor', 1)\n",
    "df['Species'] = df['Species'].replace('Iris-virginica', 2)\n",
    "\n",
    "#print(df.head)\n",
    "\n"
   ]
  },
  {
   "cell_type": "code",
   "execution_count": 4,
   "id": "28d3909e",
   "metadata": {},
   "outputs": [],
   "source": [
    "# train test and split now\n",
    "X=df.drop(['Id','Species'], axis=1)\n",
    "y=df['Species']\n",
    "\n",
    "X = X.values\n",
    "y = y.values\n",
    "\n",
    "#print(X)\n",
    "\n",
    "X_train, X_test, y_train, y_test = train_test_split(X,y,test_size=0.2, random_state=38)\n",
    "\n",
    "X_train = torch.FloatTensor(X_train)\n",
    "X_test = torch.FloatTensor(X_test)\n",
    "\n",
    "y_train = torch.LongTensor(y_train)#y and x labels to tensors.\n",
    "y_test = torch.LongTensor(y_test)\n",
    "\n"
   ]
  },
  {
   "cell_type": "code",
   "execution_count": 5,
   "id": "4890b034",
   "metadata": {},
   "outputs": [],
   "source": [
    "#criteria to measure the error\n",
    "criterion = nn.CrossEntropyLoss()\n",
    "#adam optimizer\n",
    "optimizer = torch.optim.Adam(mod.parameters(), lr=0.01)\n",
    "\n",
    "#print(mod.parameters)\n",
    "\n"
   ]
  },
  {
   "cell_type": "code",
   "execution_count": 6,
   "id": "ac4f5f11",
   "metadata": {},
   "outputs": [
    {
     "name": "stdout",
     "output_type": "stream",
     "text": [
      "Epoch:0 and loss: 1.0538495779037476\n",
      "Epoch:10 and loss: 0.8391748070716858\n",
      "Epoch:20 and loss: 0.6267265677452087\n",
      "Epoch:30 and loss: 0.4315229058265686\n",
      "Epoch:40 and loss: 0.28263550996780396\n",
      "Epoch:50 and loss: 0.16735820472240448\n",
      "Epoch:60 and loss: 0.10615809261798859\n",
      "Epoch:70 and loss: 0.0816061794757843\n",
      "Epoch:80 and loss: 0.07143925130367279\n",
      "Epoch:90 and loss: 0.06650254130363464\n"
     ]
    }
   ],
   "source": [
    "#train the model.\n",
    "epochs=100\n",
    "losses = []\n",
    "for i in range(epochs):\n",
    "    y_pred = mod.forward(X_train) # go forward and predict\n",
    "    loss =criterion(y_pred, y_train) #predicted vs y_train\n",
    "    losses.append(loss.detach().numpy())#keeping track \n",
    "    if i%10==0:\n",
    "        print(f'Epoch:{i} and loss: {loss}') #print every ten epochs\n",
    "    # back propogation\n",
    "    optimizer.zero_grad()\n",
    "    loss.backward()\n",
    "    optimizer.step()\n",
    "\n"
   ]
  },
  {
   "cell_type": "code",
   "execution_count": 7,
   "id": "6fd738a3",
   "metadata": {},
   "outputs": [
    {
     "data": {
      "image/png": "[encoded data removed]",
      "text/plain": [
       "<Figure size 640x480 with 1 Axes>"
      ]
     },
     "metadata": {},
     "output_type": "display_data"
    }
   ],
   "source": [
    "plt.plot(range(epochs), losses)\n",
    "plt.ylabel(\"loss/error\")\n",
    "plt.xlabel(\"epochs\")\n",
    "plt.show()"
   ]
  },
  {
   "cell_type": "markdown",
   "id": "12bdb65f",
   "metadata": {},
   "source": [
    "# ` eval starts here `"
   ]
  },
  {
   "cell_type": "code",
   "execution_count": 8,
   "id": "bcc2120b",
   "metadata": {},
   "outputs": [],
   "source": [
    "# eval of the model on test\n",
    "with torch.no_grad(): #will turn of back propogation\n",
    "    y_eval = mod.forward(X_test) #y_eval will be predictions\n",
    "    loss = criterion(y_eval, y_test) #error findings\n",
    "    "
   ]
  },
  {
   "cell_type": "code",
   "execution_count": 9,
   "id": "422ea75d",
   "metadata": {},
   "outputs": [
    {
     "data": {
      "text/plain": [
       "tensor(0.0382)"
      ]
     },
     "execution_count": 9,
     "metadata": {},
     "output_type": "execute_result"
    }
   ],
   "source": [
    "loss"
   ]
  },
  {
   "cell_type": "code",
   "execution_count": 10,
   "id": "842a16b2",
   "metadata": {},
   "outputs": [
    {
     "name": "stdout",
     "output_type": "stream",
     "text": [
      "1.) tensor([ 7.1239,  0.1345, -9.7290]) \t 0 \t 0 \n",
      "2.) tensor([-7.5654,  2.3986,  9.9206]) \t 2 \t 2 \n",
      "3.) tensor([-6.9469,  3.1416,  8.2306]) \t 2 \t 2 \n",
      "4.) tensor([ 6.2131,  0.6162, -8.9109]) \t 0 \t 0 \n",
      "5.) tensor([-6.8669,  2.8075,  8.4261]) \t 2 \t 2 \n",
      "6.) tensor([-2.2439,  5.4066, -1.3528]) \t 1 \t 1 \n",
      "7.) tensor([-1.3405,  4.6960, -2.0742]) \t 1 \t 1 \n",
      "8.) tensor([-8.8042,  3.2556, 11.0437]) \t 2 \t 2 \n",
      "9.) tensor([-3.5129,  4.5641,  1.4519]) \t 1 \t 1 \n",
      "10.) tensor([-7.3472,  2.9740,  9.0140]) \t 2 \t 2 \n",
      "11.) tensor([ 7.3228,  0.1145, -9.9830]) \t 0 \t 0 \n",
      "12.) tensor([-8.5547,  3.3263, 10.5877]) \t 2 \t 2 \n",
      "13.) tensor([-3.1832,  4.9095,  0.6074]) \t 1 \t 1 \n",
      "14.) tensor([-3.2136,  5.0382,  0.5267]) \t 1 \t 1 \n",
      "15.) tensor([-4.8877,  3.8696,  4.2877]) \t 1 \t 2 \n",
      "16.) tensor([-8.4127,  2.8319, 10.8346]) \t 2 \t 2 \n",
      "17.) tensor([-3.2143,  4.1949,  1.3352]) \t 1 \t 1 \n",
      "18.) tensor([-6.8344,  2.8831,  8.2881]) \t 2 \t 2 \n",
      "19.) tensor([-9.6011,  2.7458, 12.7827]) \t 2 \t 2 \n",
      "20.) tensor([-8.7070,  2.8878, 11.2482]) \t 2 \t 2 \n",
      "21.) tensor([ 5.4902,  0.4207, -7.7435]) \t 0 \t 0 \n",
      "22.) tensor([-0.3179,  4.0105, -2.9454]) \t 1 \t 1 \n",
      "23.) tensor([ 6.9177, -0.0591, -9.2395]) \t 0 \t 0 \n",
      "24.) tensor([ 6.4212,  0.2054, -8.8318]) \t 0 \t 0 \n",
      "25.) tensor([-9.9690,  2.0756, 14.0061]) \t 2 \t 2 \n",
      "26.) tensor([ 6.8318,  0.1314, -9.3216]) \t 0 \t 0 \n",
      "27.) tensor([ 0.4237,  3.6901, -3.6851]) \t 1 \t 1 \n",
      "28.) tensor([ 6.4436,  0.2392, -8.8950]) \t 0 \t 0 \n",
      "29.) tensor([ 6.4962,  0.1833, -8.9123]) \t 0 \t 0 \n",
      "30.) tensor([-1.1743,  5.0405, -2.6591]) \t 1 \t 1 \n",
      "we got : {29}\n"
     ]
    }
   ],
   "source": [
    "correct = 0\n",
    "with torch.no_grad():\n",
    "    for i, data in enumerate(X_test):\n",
    "        y_val= mod.forward(data)\n",
    "\n",
    "        print(f'{i+1}.) {str(y_val)} \\t {y_test[i]} \\t {y_val.argmax().item()} ')\n",
    "\n",
    "        if y_val.argmax().item()== y_test[i]:\n",
    "            correct += 1\n",
    "        \n",
    "print(f'we got :', {correct})"
   ]
  },
  {
   "cell_type": "markdown",
   "id": "c8d76b82",
   "metadata": {},
   "source": [
    "done"
   ]
  },
  {
   "cell_type": "markdown",
   "id": "17df717f",
   "metadata": {},
   "source": [
    "# feeding new data \n"
   ]
  },
  {
   "cell_type": "code",
   "execution_count": 11,
   "id": "c5e99746",
   "metadata": {},
   "outputs": [],
   "source": [
    "new_iris = torch.tensor([4.7, 3.2, 1.3, 0.2])"
   ]
  },
  {
   "cell_type": "code",
   "execution_count": 12,
   "id": "6a244541",
   "metadata": {},
   "outputs": [
    {
     "name": "stdout",
     "output_type": "stream",
     "text": [
      "tensor([ 6.4848,  0.1319, -8.8422])\n"
     ]
    }
   ],
   "source": [
    "with torch.no_grad():\n",
    "    print(mod(new_iris))"
   ]
  },
  {
   "cell_type": "markdown",
   "id": "4058c359",
   "metadata": {},
   "source": [
    "# metrics"
   ]
  },
  {
   "cell_type": "code",
   "execution_count": 13,
   "id": "43c6178d",
   "metadata": {},
   "outputs": [],
   "source": [
    "import torch\n",
    "from sklearn.metrics import confusion_matrix, classification_report\n",
    "import matplotlib.pyplot as plt\n",
    "import seaborn as sns\n"
   ]
  },
  {
   "cell_type": "code",
   "execution_count": 14,
   "id": "a54da82a",
   "metadata": {},
   "outputs": [],
   "source": [
    "\n",
    "mod.eval()\n",
    "with torch.no_grad():\n",
    "    logits = mod(X_test)\n",
    "    preds=torch.argmax(logits, dim=1).numpy()\n",
    "    y_true = y_test.numpy() if hasattr(y_test, \"numpy\") else y_test"
   ]
  },
  {
   "cell_type": "code",
   "execution_count": 15,
   "id": "f1186018",
   "metadata": {},
   "outputs": [
    {
     "name": "stdout",
     "output_type": "stream",
     "text": [
      "test accuracy: 0.9667\n"
     ]
    }
   ],
   "source": [
    "acc = (preds == y_true).mean()\n",
    "print(f\"test accuracy: {acc:.4f}\")"
   ]
  },
  {
   "cell_type": "code",
   "execution_count": 16,
   "id": "126bd856",
   "metadata": {},
   "outputs": [
    {
     "name": "stdout",
     "output_type": "stream",
     "text": [
      "confusion matrix [[ 9  0  0]\n",
      " [ 0  9  1]\n",
      " [ 0  0 11]]\n"
     ]
    }
   ],
   "source": [
    "cm = confusion_matrix(y_true, preds)\n",
    "print(\"confusion matrix\", cm)"
   ]
  },
  {
   "cell_type": "code",
   "execution_count": 17,
   "id": "82611d44",
   "metadata": {},
   "outputs": [
    {
     "data": {
      "image/png": "[encoded data removed]",
      "text/plain": [
       "<Figure size 500x400 with 2 Axes>"
      ]
     },
     "metadata": {},
     "output_type": "display_data"
    }
   ],
   "source": [
    "# plotting a confusion matrix\n",
    "plt.figure(figsize=(5,4))\n",
    "sns.heatmap(cm, annot=True, fmt=\"d\", cmap=\"Blues\", \n",
    "            xticklabels=[\"Setosa\",\"Versicolor\",\"Virginica\"],\n",
    "            yticklabels=[\"Setosa\",\"Versicolor\",\"Virginica\"])\n",
    "plt.xlabel(\"Predicted\")\n",
    "plt.ylabel(\"Actual\")\n",
    "plt.title(\"Iris Confusion Matrix\")\n",
    "plt.show()"
   ]
  },
  {
   "cell_type": "code",
   "execution_count": 18,
   "id": "507a2000",
   "metadata": {},
   "outputs": [
    {
     "name": "stdout",
     "output_type": "stream",
     "text": [
      "\n",
      "Classification Report:\n",
      "               precision    recall  f1-score   support\n",
      "\n",
      "      Setosa       1.00      1.00      1.00         9\n",
      "  Versicolor       1.00      0.90      0.95        10\n",
      "   Virginica       0.92      1.00      0.96        11\n",
      "\n",
      "    accuracy                           0.97        30\n",
      "   macro avg       0.97      0.97      0.97        30\n",
      "weighted avg       0.97      0.97      0.97        30\n",
      "\n"
     ]
    }
   ],
   "source": [
    "print(\"\\nClassification Report:\\n\", classification_report(y_true, preds, target_names=[\"Setosa\",\"Versicolor\",\"Virginica\"]))"
   ]
  },
  {
   "cell_type": "markdown",
   "id": "f8dbdf79",
   "metadata": {},
   "source": [
    "# Saving the model"
   ]
  },
  {
   "cell_type": "code",
   "execution_count": 19,
   "id": "3e334690",
   "metadata": {},
   "outputs": [],
   "source": [
    "torch.save(mod.state_dict(), 'iris_model.pt')"
   ]
  }
 ],
 "metadata": {
  "kernelspec": {
   "display_name": "Python 3",
   "language": "python",
   "name": "python3"
  },
  "language_info": {
   "codemirror_mode": {
    "name": "ipython",
    "version": 3
   },
   "file_extension": ".py",
   "mimetype": "text/x-python",
   "name": "python",
   "nbconvert_exporter": "python",
   "pygments_lexer": "ipython3",
   "version": "3.13.3"
  }
 },
 "nbformat": 4,
 "nbformat_minor": 5
}
