{
 "cells": [
  {
   "cell_type": "markdown",
   "id": "6a0a6591",
   "metadata": {},
   "source": [
    "# neural network building and training"
   ]
  },
  {
   "cell_type": "code",
   "execution_count": 2,
   "id": "7f6a8a0b",
   "metadata": {},
   "outputs": [],
   "source": [
    "import torch\n",
    "import torch.nn as nn\n",
    "import torch.nn.functional as F\n",
    "import matplotlib.pyplot as plt\n",
    "import pandas as pd\n",
    "from sklearn.model_selection import train_test_split\n",
    "#feed forward neural network. with two hidden layer.\n"
   ]
  },
  {
   "cell_type": "code",
   "execution_count": 4,
   "id": "776b960b",
   "metadata": {},
   "outputs": [],
   "source": [
    "class model(nn.Module):\n",
    "    #input layer(4features of the flower)\n",
    "    def __init__(self, in_features=4, h1=8, h2=9, out_features=3):\n",
    "        super().__init__()\n",
    "        self.fc1 = nn.Linear(in_features, h1)\n",
    "        self.fc2 = nn.Linear(h1, h2)\n",
    "        self.out = nn.Linear(h2, out_features)\n",
    "    \n",
    "    def forward(self, x):\n",
    "        x = F.relu(self.fc1(x))#rectified linear unit\n",
    "        x = F.relu(self.fc2(x))   \n",
    "        x = self.out(x)\n",
    "\n",
    "        return x\n",
    "    \n",
    "torch.manual_seed(32) #picking a manual seed for randomizaation\n",
    "# if loss eval is bad bw test and train, we reduce the seed no. it worked\n",
    "\n",
    "mod = model()\n",
    "\n"
   ]
  },
  {
   "cell_type": "code",
   "execution_count": 5,
   "id": "386aaedf",
   "metadata": {},
   "outputs": [
    {
     "name": "stderr",
     "output_type": "stream",
     "text": [
      "C:\\Users\\jai19\\AppData\\Local\\Temp\\ipykernel_18704\\2293203200.py:7: FutureWarning: Downcasting behavior in `replace` is deprecated and will be removed in a future version. To retain the old behavior, explicitly call `result.infer_objects(copy=False)`. To opt-in to the future behavior, set `pd.set_option('future.no_silent_downcasting', True)`\n",
      "  df['Species'] = df['Species'].replace('Iris-virginica', 2)\n"
     ]
    }
   ],
   "source": [
    "#print(model)\n",
    "csv_path = r\"C:\\Programming\\Projects\\Learn\\pytorch\\archive\\Iris.csv\"\n",
    "df = pd.read_csv(csv_path)\n",
    "\n",
    "df['Species'] = df['Species'].replace('Iris-setosa', 0)\n",
    "df['Species'] = df['Species'].replace('Iris-versicolor', 1)\n",
    "df['Species'] = df['Species'].replace('Iris-virginica', 2)\n",
    "\n",
    "#print(df.head)\n",
    "\n"
   ]
  },
  {
   "cell_type": "code",
   "execution_count": 6,
   "id": "28d3909e",
   "metadata": {},
   "outputs": [],
   "source": [
    "# train test and split now\n",
    "X=df.drop(['Id','Species'], axis=1)\n",
    "y=df['Species']\n",
    "\n",
    "X = X.values\n",
    "y = y.values\n",
    "\n",
    "#print(X)\n",
    "\n",
    "X_train, X_test, y_train, y_test = train_test_split(X,y,test_size=0.2, random_state=32)\n",
    "\n",
    "X_train = torch.FloatTensor(X_train)\n",
    "X_test = torch.FloatTensor(X_test)\n",
    "\n",
    "y_train = torch.LongTensor(y_train)#y and x labels to tensors.\n",
    "y_test = torch.LongTensor(y_test)\n",
    "\n"
   ]
  },
  {
   "cell_type": "code",
   "execution_count": 7,
   "id": "4890b034",
   "metadata": {},
   "outputs": [],
   "source": [
    "#criteria to measure the error\n",
    "criterion = nn.CrossEntropyLoss()\n",
    "#adam optimizer\n",
    "optimizer = torch.optim.Adam(mod.parameters(), lr=0.01)\n",
    "\n",
    "#print(mod.parameters)\n",
    "\n"
   ]
  },
  {
   "cell_type": "code",
   "execution_count": 8,
   "id": "ac4f5f11",
   "metadata": {},
   "outputs": [
    {
     "name": "stdout",
     "output_type": "stream",
     "text": [
      "Epoch:0 and loss: 1.169895887374878\n",
      "Epoch:10 and loss: 0.9578844308853149\n",
      "Epoch:20 and loss: 0.7988812327384949\n",
      "Epoch:30 and loss: 0.634953498840332\n",
      "Epoch:40 and loss: 0.44043004512786865\n",
      "Epoch:50 and loss: 0.29171696305274963\n",
      "Epoch:60 and loss: 0.1782904416322708\n",
      "Epoch:70 and loss: 0.11587586998939514\n",
      "Epoch:80 and loss: 0.08928148448467255\n",
      "Epoch:90 and loss: 0.077437624335289\n"
     ]
    }
   ],
   "source": [
    "#train the model.\n",
    "epochs=100\n",
    "losses = []\n",
    "for i in range(epochs):\n",
    "    y_pred = mod.forward(X_train) # go forward and predict\n",
    "    loss =criterion(y_pred, y_train) #predicted vs y_train\n",
    "    losses.append(loss.detach().numpy())#keeping track \n",
    "    if i%10==0:\n",
    "        print(f'Epoch:{i} and loss: {loss}') #print every ten epochs\n",
    "    # back propogation\n",
    "    optimizer.zero_grad()\n",
    "    loss.backward()\n",
    "    optimizer.step()\n",
    "\n"
   ]
  },
  {
   "cell_type": "code",
   "execution_count": 9,
   "id": "6fd738a3",
   "metadata": {},
   "outputs": [
    {
     "data": {
      "image/png": "[encoded data removed]",
      "text/plain": [
       "<Figure size 640x480 with 1 Axes>"
      ]
     },
     "metadata": {},
     "output_type": "display_data"
    }
   ],
   "source": [
    "plt.plot(range(epochs), losses)\n",
    "plt.ylabel(\"loss/error\")\n",
    "plt.xlabel(\"epochs\")\n",
    "plt.show()"
   ]
  },
  {
   "cell_type": "markdown",
   "id": "12bdb65f",
   "metadata": {},
   "source": [
    "# ` eval starts here `"
   ]
  },
  {
   "cell_type": "code",
   "execution_count": 10,
   "id": "bcc2120b",
   "metadata": {},
   "outputs": [],
   "source": [
    "# eval of the model on test\n",
    "with torch.no_grad(): #will turn of back propogation\n",
    "    y_eval = mod.forward(X_test) #y_eval will be predictions\n",
    "    loss = criterion(y_eval, y_test) #error findings\n",
    "    "
   ]
  },
  {
   "cell_type": "code",
   "execution_count": 11,
   "id": "422ea75d",
   "metadata": {},
   "outputs": [
    {
     "data": {
      "text/plain": [
       "tensor(0.0539)"
      ]
     },
     "execution_count": 11,
     "metadata": {},
     "output_type": "execute_result"
    }
   ],
   "source": [
    "loss"
   ]
  },
  {
   "cell_type": "code",
   "execution_count": 12,
   "id": "842a16b2",
   "metadata": {},
   "outputs": [
    {
     "name": "stdout",
     "output_type": "stream",
     "text": [
      "1.) tensor([-3.3580,  3.9452,  0.3616]) \t 1 \t 1 \n",
      "2.) tensor([  7.5862,   1.1113, -11.3861]) \t 0 \t 0 \n",
      "3.) tensor([  6.6288,   1.5092, -10.4603]) \t 0 \t 0 \n",
      "4.) tensor([-3.3304,  4.2647,  0.0569]) \t 1 \t 1 \n",
      "5.) tensor([-7.3705,  2.8135,  5.1481]) \t 2 \t 2 \n",
      "6.) tensor([-7.3749,  3.9061,  4.2781]) \t 2 \t 2 \n",
      "7.) tensor([  6.2304,   1.6527, -10.0543]) \t 0 \t 0 \n",
      "8.) tensor([  6.8783,   1.4056, -10.7016]) \t 0 \t 0 \n",
      "9.) tensor([-2.6728,  4.3138, -0.6444]) \t 1 \t 1 \n",
      "10.) tensor([  7.2201,   1.3890, -11.1494]) \t 0 \t 0 \n",
      "11.) tensor([-3.8269,  4.4110,  0.5165]) \t 1 \t 1 \n",
      "12.) tensor([-8.6886,  1.9990,  6.9012]) \t 2 \t 2 \n",
      "13.) tensor([-2.0605,  3.8275, -0.7672]) \t 1 \t 1 \n",
      "14.) tensor([-1.0676,  4.3809, -2.2975]) \t 1 \t 1 \n",
      "15.) tensor([-7.5000,  2.6230,  5.3318]) \t 2 \t 2 \n",
      "16.) tensor([-8.6214,  1.5491,  7.1280]) \t 2 \t 2 \n",
      "17.) tensor([-3.7724,  3.6503,  0.9422]) \t 1 \t 1 \n",
      "18.) tensor([-6.7624,  2.7791,  4.5289]) \t 2 \t 2 \n",
      "19.) tensor([-1.6978,  4.2047, -1.4772]) \t 1 \t 1 \n",
      "20.) tensor([  7.8104,   1.3824, -11.9435]) \t 0 \t 0 \n",
      "21.) tensor([  6.9175,   1.5954, -10.9322]) \t 0 \t 0 \n",
      "22.) tensor([-9.4323,  2.7058,  7.2346]) \t 2 \t 2 \n",
      "23.) tensor([-5.7703,  3.0159,  3.3488]) \t 2 \t 2 \n",
      "24.) tensor([  6.7894,   1.3532, -10.5322]) \t 0 \t 0 \n",
      "25.) tensor([  6.8259,   1.0698, -10.3167]) \t 0 \t 0 \n",
      "26.) tensor([-1.4315,  4.3274, -1.9046]) \t 1 \t 1 \n",
      "27.) tensor([  7.9001,   1.2810, -11.9702]) \t 0 \t 0 \n",
      "28.) tensor([-9.8161,  1.7077,  8.1757]) \t 2 \t 2 \n",
      "29.) tensor([  7.4112,   1.3948, -11.4139]) \t 0 \t 0 \n",
      "30.) tensor([  7.2116,   1.4010, -11.1491]) \t 0 \t 0 \n",
      "we got : {30}\n"
     ]
    }
   ],
   "source": [
    "correct = 0\n",
    "with torch.no_grad():\n",
    "    for i, data in enumerate(X_test):\n",
    "        y_val= mod.forward(data)\n",
    "\n",
    "        print(f'{i+1}.) {str(y_val)} \\t {y_test[i]} \\t {y_val.argmax().item()} ')\n",
    "\n",
    "        if y_val.argmax().item()== y_test[i]:\n",
    "            correct += 1\n",
    "        \n",
    "print(f'we got :', {correct})"
   ]
  },
  {
   "cell_type": "markdown",
   "id": "c8d76b82",
   "metadata": {},
   "source": [
    "done"
   ]
  },
  {
   "cell_type": "markdown",
   "id": "17df717f",
   "metadata": {},
   "source": [
    "# feeding new data \n"
   ]
  },
  {
   "cell_type": "code",
   "execution_count": 13,
   "id": "c5e99746",
   "metadata": {},
   "outputs": [],
   "source": [
    "new_iris = torch.tensor([4.7, 3.2, 1.3, 0.2])"
   ]
  },
  {
   "cell_type": "code",
   "execution_count": 16,
   "id": "6a244541",
   "metadata": {},
   "outputs": [
    {
     "name": "stdout",
     "output_type": "stream",
     "text": [
      "tensor([  6.9155,   1.2532, -10.6096])\n"
     ]
    }
   ],
   "source": [
    "with torch.no_grad():\n",
    "    print(mod(new_iris))"
   ]
  }
 ],
 "metadata": {
  "kernelspec": {
   "display_name": "Python 3",
   "language": "python",
   "name": "python3"
  },
  "language_info": {
   "codemirror_mode": {
    "name": "ipython",
    "version": 3
   },
   "file_extension": ".py",
   "mimetype": "text/x-python",
   "name": "python",
   "nbconvert_exporter": "python",
   "pygments_lexer": "ipython3",
   "version": "3.13.3"
  }
 },
 "nbformat": 4,
 "nbformat_minor": 5
}
